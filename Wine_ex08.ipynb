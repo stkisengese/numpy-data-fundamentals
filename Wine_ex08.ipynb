{
 "cells": [
  {
   "cell_type": "code",
   "execution_count": 1,
   "id": "344815c3-e222-4810-b4dd-ac4fac87e250",
   "metadata": {},
   "outputs": [],
   "source": [
    "# Exercise 8: Wine"
   ]
  },
  {
   "cell_type": "code",
   "execution_count": 2,
   "id": "100213b0-ba55-4147-8248-60191f6380a7",
   "metadata": {},
   "outputs": [],
   "source": [
    "#Q1: Load wine data with proper optimization"
   ]
  },
  {
   "cell_type": "code",
   "execution_count": 12,
   "id": "67e4ba35-f620-4d03-98be-ca9b673a291b",
   "metadata": {},
   "outputs": [
    {
     "name": "stdout",
     "output_type": "stream",
     "text": [
      "Data shape (1599, 12)\n",
      "Data size in bytes: 76752\n"
     ]
    }
   ],
   "source": [
    "import numpy as np\n",
    "\n",
    "wine_data = np.genfromtxt('winequality-red.csv', delimiter=';', skip_header=1, dtype=np.float32)\n",
    "print(\"Data shape\", wine_data.shape)\n",
    "print(\"Data size in bytes:\", wine_data.nbytes)"
   ]
  },
  {
   "cell_type": "code",
   "execution_count": null,
   "id": "df32101e-670c-47c7-a0a0-ac41f4ce0816",
   "metadata": {},
   "outputs": [],
   "source": []
  }
 ],
 "metadata": {
  "kernelspec": {
   "display_name": "Python 3 (ipykernel)",
   "language": "python",
   "name": "python3"
  },
  "language_info": {
   "codemirror_mode": {
    "name": "ipython",
    "version": 3
   },
   "file_extension": ".py",
   "mimetype": "text/x-python",
   "name": "python",
   "nbconvert_exporter": "python",
   "pygments_lexer": "ipython3",
   "version": "3.8.20"
  }
 },
 "nbformat": 4,
 "nbformat_minor": 5
}
