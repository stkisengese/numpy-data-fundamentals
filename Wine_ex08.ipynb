{
 "cells": [
  {
   "cell_type": "code",
   "execution_count": 1,
   "id": "344815c3-e222-4810-b4dd-ac4fac87e250",
   "metadata": {},
   "outputs": [],
   "source": [
    "# Exercise 8: Wine"
   ]
  },
  {
   "cell_type": "code",
   "execution_count": 2,
   "id": "100213b0-ba55-4147-8248-60191f6380a7",
   "metadata": {},
   "outputs": [],
   "source": [
    "## Q1: Load wine data with proper optimization"
   ]
  },
  {
   "cell_type": "code",
   "execution_count": 12,
   "id": "67e4ba35-f620-4d03-98be-ca9b673a291b",
   "metadata": {},
   "outputs": [
    {
     "name": "stdout",
     "output_type": "stream",
     "text": [
      "Data shape (1599, 12)\n",
      "Data size in bytes: 76752\n"
     ]
    }
   ],
   "source": [
    "import numpy as np\n",
    "\n",
    "wine_data = np.genfromtxt('winequality-red.csv', delimiter=';', skip_header=1, dtype=np.float32)\n",
    "print(\"Data shape\", wine_data.shape)\n",
    "print(\"Data size in bytes:\", wine_data.nbytes)"
   ]
  },
  {
   "cell_type": "code",
   "execution_count": 13,
   "id": "df32101e-670c-47c7-a0a0-ac41f4ce0816",
   "metadata": {},
   "outputs": [],
   "source": [
    "## Q2: Display 2nd, 7th, and 12th rows (1-indexed becomes 0-indexed: 1, 6, 11)"
   ]
  },
  {
   "cell_type": "code",
   "execution_count": 45,
   "id": "aa385512-2ff7-485f-8782-84762cdf728a",
   "metadata": {},
   "outputs": [
    {
     "name": "stdout",
     "output_type": "stream",
     "text": [
      "Selected rows (2nd, 7th, 12th):\n",
      "[[7.800e+00 8.800e-01 0.000e+00 2.600e+00 9.800e-02 2.500e+01 6.700e+01\n",
      "  9.968e-01 3.200e+00 6.800e-01 9.800e+00 5.000e+00]\n",
      " [7.900e+00 6.000e-01 6.000e-02 1.600e+00 6.900e-02 1.500e+01 5.900e+01\n",
      "  9.964e-01 3.300e+00 4.600e-01 9.400e+00 5.000e+00]\n",
      " [7.500e+00 5.000e-01 3.600e-01 6.100e+00 7.100e-02 1.700e+01 1.020e+02\n",
      "  9.978e-01 3.350e+00 8.000e-01 1.050e+01 5.000e+00]]\n"
     ]
    }
   ],
   "source": [
    "selected_rows = wine_data[[1, 6, 11], :]\n",
    "\n",
    "# select all rows from 'selected_rows' that do not contain any NaN values\n",
    "clean_rows = selected_rows[~np.isnan(selected_rows).any(axis=1)]\n",
    "print(\"Selected rows (2nd, 7th, 12th):\")\n",
    "print(clean_rows)"
   ]
  },
  {
   "cell_type": "code",
   "execution_count": 18,
   "id": "3226612b-6382-4664-96a1-d63631f78c14",
   "metadata": {},
   "outputs": [],
   "source": [
    "## Q3: Any wine with alcohol > 20%?"
   ]
  },
  {
   "cell_type": "code",
   "execution_count": 19,
   "id": "6b08066b-ebbf-4503-8be3-6a7c12bdc7fb",
   "metadata": {},
   "outputs": [
    {
     "name": "stdout",
     "output_type": "stream",
     "text": [
      "Alcohol > 20%: False\n"
     ]
    }
   ],
   "source": [
    "alcohol_gt_20 = np.any(wine_data[:, 10] > 20) #alcohol is index 11\n",
    "print(\"Alcohol > 20%:\", alcohol_gt_20)"
   ]
  },
  {
   "cell_type": "code",
   "execution_count": 20,
   "id": "b5cb6170-64ea-4fc5-ae38-cc5bcdecf41c",
   "metadata": {},
   "outputs": [],
   "source": [
    "## Q4: Mean alcohol percentage (ignore NaN)"
   ]
  },
  {
   "cell_type": "code",
   "execution_count": 24,
   "id": "2506aeb8-00ed-42c1-8efc-2746734afeae",
   "metadata": {},
   "outputs": [
    {
     "name": "stdout",
     "output_type": "stream",
     "text": [
      "Mean alcohol: 10.423\n"
     ]
    }
   ],
   "source": [
    "mean_alcohol = np.nanmean(wine_data[:, 10])\n",
    "print(f\"Mean alcohol: {mean_alcohol:.3f}\")"
   ]
  },
  {
   "cell_type": "code",
   "execution_count": 25,
   "id": "b89ff434-c547-4d34-aa71-c530a5b3de89",
   "metadata": {},
   "outputs": [],
   "source": [
    "## Q5: Stats for pH (column index 9)"
   ]
  },
  {
   "cell_type": "code",
   "execution_count": 43,
   "id": "2c6f5026-fb23-491b-b951-6168e931b26c",
   "metadata": {},
   "outputs": [
    {
     "name": "stdout",
     "output_type": "stream",
     "text": [
      "pH Statistics: {'min': 2.74, 'max': 4.01, '25%': 3.21, '50%': 3.31, '75%': 3.4, 'mean': 3.31}\n"
     ]
    }
   ],
   "source": [
    "pH_col = wine_data[:, 8]\n",
    "stats = {\n",
    "    'min': round(np.nanmin(pH_col), 2),\n",
    "    'max': round(np.nanmax(pH_col), 2),\n",
    "    '25%': round(np.nanpercentile(pH_col, 25), 2),\n",
    "    '50%': round(np.nanpercentile(pH_col, 50), 2),  # median\n",
    "    '75%': round(np.nanpercentile(pH_col, 75), 2),\n",
    "    'mean': round(np.nanmean(pH_col), 2)\n",
    "}\n",
    "print(\"pH Statistics:\", stats)"
   ]
  },
  {
   "cell_type": "code",
   "execution_count": 28,
   "id": "12beda11-ef1b-49ad-ac4e-d52505b26e18",
   "metadata": {},
   "outputs": [],
   "source": [
    "## Q6: Average quality of wines with 20% least sulphate content"
   ]
  },
  {
   "cell_type": "code",
   "execution_count": 39,
   "id": "85edfab2-e83c-426e-ba69-7bd9ef1f7855",
   "metadata": {},
   "outputs": [
    {
     "name": "stdout",
     "output_type": "stream",
     "text": [
      "Low sulphate avg quality: 5.2\n"
     ]
    }
   ],
   "source": [
    "sulphates = wine_data[:, 9]  #10th column\n",
    "quality = wine_data[:, 11]  #11th column\n",
    "\n",
    "p20 = np.nanpercentile(sulphates, 20)\n",
    "mask = sulphates < p20\n",
    "low_sulphur_quality_mean = np.nanmean(quality[mask])\n",
    "\n",
    "print(f\"Low sulphate avg quality: {low_sulphur_quality_mean:.1f}\")"
   ]
  },
  {
   "cell_type": "code",
   "execution_count": 35,
   "id": "a080eaca-fe1b-44b2-bd5e-2b07e3b4435a",
   "metadata": {},
   "outputs": [],
   "source": [
    "## Q7: Mean of all variables for best/worst quality"
   ]
  },
  {
   "cell_type": "code",
   "execution_count": 37,
   "id": "489d4428-1b89-4de9-b18d-717f084a4200",
   "metadata": {},
   "outputs": [
    {
     "name": "stdout",
     "output_type": "stream",
     "text": [
      "Mean for best quality wines:\n",
      " [ 8.566666    0.4233333   0.39111114  2.5777776   0.06844445 13.277778\n",
      " 33.444443    0.99521226  3.2672222   0.76777774 12.094444    8.        ]\n",
      "Mean for worst quality wines:\n",
      " [ 8.359999    0.8845      0.17099999  2.6350002   0.12249999 11.\n",
      " 24.9         0.997464    3.398       0.57000005  9.955       3.        ]\n"
     ]
    }
   ],
   "source": [
    "quality = wine_data[:, 11]\n",
    "best_quality = np.nanmax(quality)\n",
    "worst_quality = np.nanmin(quality)\n",
    "\n",
    "best_mask = quality == best_quality\n",
    "worst_mask = quality == worst_quality\n",
    "\n",
    "mean_best = np.nanmean(wine_data[best_mask], axis=0)\n",
    "mean_worst = np.nanmean(wine_data[worst_mask], axis=0)\n",
    "\n",
    "print(\"Mean for best quality wines:\\n\", mean_best)\n",
    "print(\"Mean for worst quality wines:\\n\", mean_worst)"
   ]
  },
  {
   "cell_type": "code",
   "execution_count": null,
   "id": "f0eae043-5f87-4437-84b3-c770f6a61d86",
   "metadata": {},
   "outputs": [],
   "source": []
  }
 ],
 "metadata": {
  "kernelspec": {
   "display_name": "Python 3 (ipykernel)",
   "language": "python",
   "name": "python3"
  },
  "language_info": {
   "codemirror_mode": {
    "name": "ipython",
    "version": 3
   },
   "file_extension": ".py",
   "mimetype": "text/x-python",
   "name": "python",
   "nbconvert_exporter": "python",
   "pygments_lexer": "ipython3",
   "version": "3.8.20"
  }
 },
 "nbformat": 4,
 "nbformat_minor": 5
}
