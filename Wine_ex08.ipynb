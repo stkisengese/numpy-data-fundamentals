{
 "cells": [
  {
   "cell_type": "code",
   "execution_count": 1,
   "id": "344815c3-e222-4810-b4dd-ac4fac87e250",
   "metadata": {},
   "outputs": [],
   "source": [
    "# Exercise 8: Wine"
   ]
  },
  {
   "cell_type": "code",
   "execution_count": 2,
   "id": "100213b0-ba55-4147-8248-60191f6380a7",
   "metadata": {},
   "outputs": [],
   "source": [
    "## Q1: Load wine data with proper optimization"
   ]
  },
  {
   "cell_type": "code",
   "execution_count": 12,
   "id": "67e4ba35-f620-4d03-98be-ca9b673a291b",
   "metadata": {},
   "outputs": [
    {
     "name": "stdout",
     "output_type": "stream",
     "text": [
      "Data shape (1599, 12)\n",
      "Data size in bytes: 76752\n"
     ]
    }
   ],
   "source": [
    "import numpy as np\n",
    "\n",
    "wine_data = np.genfromtxt('winequality-red.csv', delimiter=';', skip_header=1, dtype=np.float32)\n",
    "print(\"Data shape\", wine_data.shape)\n",
    "print(\"Data size in bytes:\", wine_data.nbytes)"
   ]
  },
  {
   "cell_type": "code",
   "execution_count": 13,
   "id": "df32101e-670c-47c7-a0a0-ac41f4ce0816",
   "metadata": {},
   "outputs": [],
   "source": [
    "## Q2: Display 2nd, 7th, and 12th rows (1-indexed becomes 0-indexed: 1, 6, 11)"
   ]
  },
  {
   "cell_type": "code",
   "execution_count": 17,
   "id": "aa385512-2ff7-485f-8782-84762cdf728a",
   "metadata": {},
   "outputs": [
    {
     "name": "stdout",
     "output_type": "stream",
     "text": [
      "Selected rows (2nd, 7th, 12th):\n",
      "[[7.800e+00 8.800e-01 0.000e+00 2.600e+00 9.800e-02 2.500e+01 6.700e+01\n",
      "  9.968e-01 3.200e+00 6.800e-01 9.800e+00 5.000e+00]\n",
      " [7.900e+00 6.000e-01 6.000e-02 1.600e+00 6.900e-02 1.500e+01 5.900e+01\n",
      "  9.964e-01 3.300e+00 4.600e-01 9.400e+00 5.000e+00]\n",
      " [7.500e+00 5.000e-01 3.600e-01 6.100e+00 7.100e-02 1.700e+01 1.020e+02\n",
      "  9.978e-01 3.350e+00 8.000e-01 1.050e+01 5.000e+00]]\n"
     ]
    }
   ],
   "source": [
    "selected_rows = wine_data[[1, 6, 11], :]\n",
    "print(\"Selected rows (2nd, 7th, 12th):\")\n",
    "print(selected_rows)"
   ]
  },
  {
   "cell_type": "code",
   "execution_count": 18,
   "id": "3226612b-6382-4664-96a1-d63631f78c14",
   "metadata": {},
   "outputs": [],
   "source": [
    "## Q3: Any wine with alcohol > 20%?"
   ]
  },
  {
   "cell_type": "code",
   "execution_count": 19,
   "id": "6b08066b-ebbf-4503-8be3-6a7c12bdc7fb",
   "metadata": {},
   "outputs": [
    {
     "name": "stdout",
     "output_type": "stream",
     "text": [
      "Alcohol > 20%: False\n"
     ]
    }
   ],
   "source": [
    "alcohol_gt_20 = np.any(wine_data[:, 10] > 20) #alcohol is index 11\n",
    "print(\"Alcohol > 20%:\", alcohol_gt_20)"
   ]
  },
  {
   "cell_type": "code",
   "execution_count": 20,
   "id": "b5cb6170-64ea-4fc5-ae38-cc5bcdecf41c",
   "metadata": {},
   "outputs": [],
   "source": [
    "## Q4: Mean alcohol percentage (ignore NaN)"
   ]
  },
  {
   "cell_type": "code",
   "execution_count": 24,
   "id": "2506aeb8-00ed-42c1-8efc-2746734afeae",
   "metadata": {},
   "outputs": [
    {
     "name": "stdout",
     "output_type": "stream",
     "text": [
      "Mean alcohol: 10.423\n"
     ]
    }
   ],
   "source": [
    "mean_alcohol = np.nanmean(wine_data[:, 10])\n",
    "print(f\"Mean alcohol: {mean_alcohol:.3f}\")"
   ]
  },
  {
   "cell_type": "code",
   "execution_count": 25,
   "id": "b89ff434-c547-4d34-aa71-c530a5b3de89",
   "metadata": {},
   "outputs": [],
   "source": [
    "## Q5: Stats for pH (column index 9)"
   ]
  },
  {
   "cell_type": "code",
   "execution_count": 27,
   "id": "2c6f5026-fb23-491b-b951-6168e931b26c",
   "metadata": {},
   "outputs": [
    {
     "name": "stdout",
     "output_type": "stream",
     "text": [
      "pH Statistics: {'min': 2.74, 'max': 4.01, '25%': 3.2100000381469727, '50%': 3.309999942779541, '75%': 3.4000000953674316, 'mean': 3.3111134}\n"
     ]
    }
   ],
   "source": [
    "pH_col = wine_data[:, 8]\n",
    "stats = {\n",
    "    'min': np.nanmin(pH_col),\n",
    "    'max': np.nanmax(pH_col),\n",
    "    '25%': np.nanpercentile(pH_col, 25),\n",
    "    '50%': np.nanpercentile(pH_col, 50),  # median\n",
    "    '75%': np.nanpercentile(pH_col, 75),\n",
    "    'mean': np.nanmean(pH_col)\n",
    "}\n",
    "print(\"pH Statistics:\", stats)"
   ]
  },
  {
   "cell_type": "code",
   "execution_count": 28,
   "id": "12beda11-ef1b-49ad-ac4e-d52505b26e18",
   "metadata": {},
   "outputs": [],
   "source": [
    "## Q6: Average quality of wines with 20% least sulphate content"
   ]
  },
  {
   "cell_type": "code",
   "execution_count": 34,
   "id": "85edfab2-e83c-426e-ba69-7bd9ef1f7855",
   "metadata": {},
   "outputs": [
    {
     "name": "stdout",
     "output_type": "stream",
     "text": [
      "Low sulphate avg quality: 5.1854305\n"
     ]
    }
   ],
   "source": [
    "sulphates = wine_data[:, 9]  #10th column\n",
    "quality = wine_data[:, 11]  #11th column\n",
    "\n",
    "p20 = np.nanpercentile(sulphates, 20)\n",
    "mask = sulphates < p20\n",
    "low_sulphur_quality_mean = np.nanmean(quality[mask])\n",
    "\n",
    "print(\"Low sulphate avg quality:\", low_sulphur_quality_mean)"
   ]
  },
  {
   "cell_type": "code",
   "execution_count": null,
   "id": "a080eaca-fe1b-44b2-bd5e-2b07e3b4435a",
   "metadata": {},
   "outputs": [],
   "source": []
  }
 ],
 "metadata": {
  "kernelspec": {
   "display_name": "Python 3 (ipykernel)",
   "language": "python",
   "name": "python3"
  },
  "language_info": {
   "codemirror_mode": {
    "name": "ipython",
    "version": 3
   },
   "file_extension": ".py",
   "mimetype": "text/x-python",
   "name": "python",
   "nbconvert_exporter": "python",
   "pygments_lexer": "ipython3",
   "version": "3.8.20"
  }
 },
 "nbformat": 4,
 "nbformat_minor": 5
}
