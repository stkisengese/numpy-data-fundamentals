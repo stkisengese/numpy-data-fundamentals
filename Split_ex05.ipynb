{
 "cells": [
  {
   "cell_type": "code",
   "execution_count": 1,
   "id": "fa5d24f0-8fd5-47a3-8cdd-fb7b8a639e6a",
   "metadata": {},
   "outputs": [],
   "source": [
    "# Exercise 5: Split, Concateneate, reshape arrays"
   ]
  },
  {
   "cell_type": "code",
   "execution_count": 2,
   "id": "fa12b165-93aa-4761-ab28-a0351011d17f",
   "metadata": {},
   "outputs": [],
   "source": [
    "import numpy as np"
   ]
  },
  {
   "cell_type": "code",
   "execution_count": 4,
   "id": "8d722ffa-2dbc-48b1-841f-a786195b1ff1",
   "metadata": {},
   "outputs": [],
   "source": [
    "## Q1: Generate an array with integers 1-50"
   ]
  },
  {
   "cell_type": "code",
   "execution_count": 6,
   "id": "5eab47ab-f78d-4ee9-acb3-8d6bb186dcf8",
   "metadata": {},
   "outputs": [
    {
     "name": "stdout",
     "output_type": "stream",
     "text": [
      "First array:\n",
      " [ 1  2  3  4  5  6  7  8  9 10 11 12 13 14 15 16 17 18 19 20 21 22 23 24\n",
      " 25 26 27 28 29 30 31 32 33 34 35 36 37 38 39 40 41 42 43 44 45 46 47 48\n",
      " 49 50]\n"
     ]
    }
   ],
   "source": [
    "arr_one = np.arange(1,51)\n",
    "print(\"First array:\\n\", arr_one)"
   ]
  },
  {
   "cell_type": "code",
   "execution_count": 4,
   "id": "b186f754-b95a-4e41-aa39-458de322454c",
   "metadata": {},
   "outputs": [],
   "source": [
    "## Q2: Generate an array with integers 51-100"
   ]
  },
  {
   "cell_type": "code",
   "execution_count": 7,
   "id": "73a4d636-fcb7-4a81-bf76-db5c3cda5b47",
   "metadata": {},
   "outputs": [
    {
     "name": "stdout",
     "output_type": "stream",
     "text": [
      "First array:\n",
      " [ 51  52  53  54  55  56  57  58  59  60  61  62  63  64  65  66  67  68\n",
      "  69  70  71  72  73  74  75  76  77  78  79  80  81  82  83  84  85  86\n",
      "  87  88  89  90  91  92  93  94  95  96  97  98  99 100]\n"
     ]
    }
   ],
   "source": [
    "arr_two = np.arange(51, 101)\n",
    "print(\"First array:\\n\", arr_two)"
   ]
  },
  {
   "cell_type": "code",
   "execution_count": 8,
   "id": "25971fc1-556c-4a48-9ba6-fdb89f91b9e7",
   "metadata": {},
   "outputs": [],
   "source": [
    "## Q3: Concatenate the two arrays"
   ]
  },
  {
   "cell_type": "code",
   "execution_count": 9,
   "id": "c76392aa-f9c6-4b6c-ab3c-4aecf90e94ae",
   "metadata": {},
   "outputs": [
    {
     "name": "stdout",
     "output_type": "stream",
     "text": [
      "The joined array:\n",
      " [  1   2   3   4   5   6   7   8   9  10  11  12  13  14  15  16  17  18\n",
      "  19  20  21  22  23  24  25  26  27  28  29  30  31  32  33  34  35  36\n",
      "  37  38  39  40  41  42  43  44  45  46  47  48  49  50  51  52  53  54\n",
      "  55  56  57  58  59  60  61  62  63  64  65  66  67  68  69  70  71  72\n",
      "  73  74  75  76  77  78  79  80  81  82  83  84  85  86  87  88  89  90\n",
      "  91  92  93  94  95  96  97  98  99 100]\n"
     ]
    }
   ],
   "source": [
    "arr_conc = np.concatenate([arr_one, arr_two])\n",
    "print(\"The joined array:\\n\", arr_conc)"
   ]
  },
  {
   "cell_type": "code",
   "execution_count": 10,
   "id": "4b831ad2-d6fb-446d-a4c5-f1d6350c7c5c",
   "metadata": {},
   "outputs": [],
   "source": [
    "## Q4: Reshaping the joined array"
   ]
  },
  {
   "cell_type": "code",
   "execution_count": 12,
   "id": "3d4b5c4e-fd15-4902-8a4a-4049d191dcae",
   "metadata": {},
   "outputs": [
    {
     "name": "stdout",
     "output_type": "stream",
     "text": [
      "The reshaped combined array:\n",
      " [[  1   2   3   4   5   6   7   8   9  10]\n",
      " [ 11  12  13  14  15  16  17  18  19  20]\n",
      " [ 21  22  23  24  25  26  27  28  29  30]\n",
      " [ 31  32  33  34  35  36  37  38  39  40]\n",
      " [ 41  42  43  44  45  46  47  48  49  50]\n",
      " [ 51  52  53  54  55  56  57  58  59  60]\n",
      " [ 61  62  63  64  65  66  67  68  69  70]\n",
      " [ 71  72  73  74  75  76  77  78  79  80]\n",
      " [ 81  82  83  84  85  86  87  88  89  90]\n",
      " [ 91  92  93  94  95  96  97  98  99 100]]\n"
     ]
    }
   ],
   "source": [
    "arr_reshaped = arr_conc.reshape(10,10)\n",
    "print(\"The reshaped combined array:\\n\", arr_reshaped)"
   ]
  },
  {
   "cell_type": "code",
   "execution_count": null,
   "id": "3bc9481a-f3f9-4d3a-a931-7ed15f91b308",
   "metadata": {},
   "outputs": [],
   "source": []
  }
 ],
 "metadata": {
  "kernelspec": {
   "display_name": "Python 3 (ipykernel)",
   "language": "python",
   "name": "python3"
  },
  "language_info": {
   "codemirror_mode": {
    "name": "ipython",
    "version": 3
   },
   "file_extension": ".py",
   "mimetype": "text/x-python",
   "name": "python",
   "nbconvert_exporter": "python",
   "pygments_lexer": "ipython3",
   "version": "3.8.20"
  }
 },
 "nbformat": 4,
 "nbformat_minor": 5
}
