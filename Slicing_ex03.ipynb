{
 "cells": [
  {
   "cell_type": "code",
   "execution_count": null,
   "id": "737c421e-1464-4935-910f-fea120c39675",
   "metadata": {},
   "outputs": [],
   "source": [
    "# Exercise 3: Slicing\n",
    "## Question 1: Create array from 1 to 100"
   ]
  },
  {
   "cell_type": "code",
   "execution_count": 22,
   "id": "2dee2d64-d06d-4967-b01d-19b20de32f8d",
   "metadata": {},
   "outputs": [
    {
     "name": "stdout",
     "output_type": "stream",
     "text": [
      "Original array: [  1   2   3   4   5   6   7   8   9  10  11  12  13  14  15  16  17  18\n",
      "  19  20  21  22  23  24  25  26  27  28  29  30  31  32  33  34  35  36\n",
      "  37  38  39  40  41  42  43  44  45  46  47  48  49  50  51  52  53  54\n",
      "  55  56  57  58  59  60  61  62  63  64  65  66  67  68  69  70  71  72\n",
      "  73  74  75  76  77  78  79  80  81  82  83  84  85  86  87  88  89  90\n",
      "  91  92  93  94  95  96  97  98  99 100]\n"
     ]
    }
   ],
   "source": [
    "import numpy as np\n",
    "arr = np.arange(1, 101)\n",
    "print(\"Original array:\", arr)"
   ]
  },
  {
   "cell_type": "code",
   "execution_count": 23,
   "id": "9f3e7f61-2389-4796-b3bf-2987a5953ad3",
   "metadata": {},
   "outputs": [
    {
     "name": "stdout",
     "output_type": "stream",
     "text": [
      "Odd integers: [ 1  3  5  7  9 11 13 15 17 19 21 23 25 27 29 31 33 35 37 39 41 43 45 47\n",
      " 49 51 53 55 57 59 61 63 65 67 69 71 73 75 77 79 81 83 85 87 89 91 93 95\n",
      " 97 99]\n"
     ]
    }
   ],
   "source": [
    "## Question 2: Extract odd integers\n",
    "\n",
    "odd_arr = arr[::2]\n",
    "print(\"Odd integers:\", odd_arr)"
   ]
  },
  {
   "cell_type": "code",
   "execution_count": 24,
   "id": "a60f0823-8f96-41c3-8212-0b389c6991e2",
   "metadata": {},
   "outputs": [
    {
     "name": "stdout",
     "output_type": "stream",
     "text": [
      "Odd integers: [ 1  3  5  7  9 11 13 15 17 19 21 23 25 27 29 31 33 35 37 39 41 43 45 47\n",
      " 49 51 53 55 57 59 61 63 65 67 69 71 73 75 77 79 81 83 85 87 89 91 93 95\n",
      " 97 99]\n"
     ]
    }
   ],
   "source": [
    "## Extract odd integers(Alternative)\n",
    "# Boolen indexing selects elements where the condition is True\n",
    "odd = arr[arr % 2 != 0]\n",
    "print(\"Odd integers:\", odd)"
   ]
  },
  {
   "cell_type": "code",
   "execution_count": 25,
   "id": "ee1bb9a1-254e-43ef-ac62-f27b9fa15146",
   "metadata": {},
   "outputs": [],
   "source": [
    "## Question 3: Extract even integers reversed"
   ]
  },
  {
   "cell_type": "code",
   "execution_count": 26,
   "id": "1fd1eb2a-d42e-4c10-8398-f61015e39feb",
   "metadata": {},
   "outputs": [
    {
     "name": "stdout",
     "output_type": "stream",
     "text": [
      "Even integers reversed: [100  98  96  94  92  90  88  86  84  82  80  78  76  74  72  70  68  66\n",
      "  64  62  60  58  56  54  52  50  48  46  44  42  40  38  36  34  32  30\n",
      "  28  26  24  22  20  18  16  14  12  10   8   6   4   2]\n"
     ]
    }
   ],
   "source": [
    "# Even integers reversed\n",
    "even_reversed = arr[1::2][::-1]\n",
    "print(\"Even integers reversed:\", even_reversed)"
   ]
  },
  {
   "cell_type": "code",
   "execution_count": 27,
   "id": "f358cc28-cc52-42bd-ba73-796e19c14e07",
   "metadata": {},
   "outputs": [],
   "source": [
    "## Question 4: Set every 3rd element to 0 (starting from index 1)"
   ]
  },
  {
   "cell_type": "code",
   "execution_count": 31,
   "id": "c8d2a388-e21f-49e1-afda-2a5d3695a940",
   "metadata": {},
   "outputs": [
    {
     "name": "stdout",
     "output_type": "stream",
     "text": [
      "Modified array [  1   0   3   4   0   6   7   0   9  10   0  12  13   0  15  16   0  18\n",
      "  19   0  21  22   0  24  25   0  27  28   0  30  31   0  33  34   0  36\n",
      "  37   0  39  40   0  42  43   0  45  46   0  48  49   0  51  52   0  54\n",
      "  55   0  57  58   0  60  61   0  63  64   0  66  67   0  69  70   0  72\n",
      "  73   0  75  76   0  78  79   0  81  82   0  84  85   0  87  88   0  90\n",
      "  91   0  93  94   0  96  97   0  99 100]\n"
     ]
    }
   ],
   "source": [
    "#start:stop:step\n",
    "arr_modified = arr.copy()\n",
    "arr_modified[1::3] = 0\n",
    "print(\"Modified array\", arr_modified)\n",
    "#print(arr)"
   ]
  },
  {
   "cell_type": "code",
   "execution_count": null,
   "id": "872b54d3-15f8-4a64-bb98-8b8448d677e2",
   "metadata": {},
   "outputs": [],
   "source": []
  }
 ],
 "metadata": {
  "kernelspec": {
   "display_name": "Python 3 (ipykernel)",
   "language": "python",
   "name": "python3"
  },
  "language_info": {
   "codemirror_mode": {
    "name": "ipython",
    "version": 3
   },
   "file_extension": ".py",
   "mimetype": "text/x-python",
   "name": "python",
   "nbconvert_exporter": "python",
   "pygments_lexer": "ipython3",
   "version": "3.8.20"
  }
 },
 "nbformat": 4,
 "nbformat_minor": 5
}
