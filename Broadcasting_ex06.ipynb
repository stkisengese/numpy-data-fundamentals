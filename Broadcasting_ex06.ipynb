{
 "cells": [
  {
   "cell_type": "code",
   "execution_count": 1,
   "id": "08ab730f-7a23-47c5-a4b5-e5d3178f52cd",
   "metadata": {},
   "outputs": [],
   "source": [
    "# Exercise 6: Broadcasting and Slicing\n",
    "## Use of for loop is not allowed here"
   ]
  },
  {
   "cell_type": "code",
   "execution_count": 2,
   "id": "7fd995fb-6263-45d1-b1d9-78c99d16c51b",
   "metadata": {},
   "outputs": [],
   "source": [
    "## Q1: Generate a 2D (9X9), with all elements initialized to 1 and of type int8"
   ]
  },
  {
   "cell_type": "code",
   "execution_count": 12,
   "id": "44e8d4d7-6d01-4d19-bf2f-bb9d2faa37db",
   "metadata": {},
   "outputs": [
    {
     "name": "stdout",
     "output_type": "stream",
     "text": [
      "The 2D (9x9) array:\n",
      " [[1 1 1 1 1 1 1 1 1]\n",
      " [1 1 1 1 1 1 1 1 1]\n",
      " [1 1 1 1 1 1 1 1 1]\n",
      " [1 1 1 1 1 1 1 1 1]\n",
      " [1 1 1 1 1 1 1 1 1]\n",
      " [1 1 1 1 1 1 1 1 1]\n",
      " [1 1 1 1 1 1 1 1 1]\n",
      " [1 1 1 1 1 1 1 1 1]\n",
      " [1 1 1 1 1 1 1 1 1]]\n"
     ]
    }
   ],
   "source": [
    "import numpy as np\n",
    "arr_2D = np.ones((9,9), dtype=np.int8)\n",
    "print(\"The 2D (9x9) array:\\n\", arr_2D)"
   ]
  },
  {
   "cell_type": "code",
   "execution_count": 13,
   "id": "a7c1e8ba-e89a-48cb-992e-071d2fc57bc0",
   "metadata": {},
   "outputs": [],
   "source": [
    "## Q2: Create a 2D pattern using slicing"
   ]
  },
  {
   "cell_type": "code",
   "execution_count": 35,
   "id": "3a6fc742-de88-4113-97f1-094eb2759d57",
   "metadata": {},
   "outputs": [
    {
     "name": "stdout",
     "output_type": "stream",
     "text": [
      "Pattern array:\n",
      " [[1 1 1 1 1 1 1 1 1]\n",
      " [1 0 0 0 0 0 0 0 1]\n",
      " [1 0 1 1 1 1 1 0 1]\n",
      " [1 0 1 0 0 0 1 0 1]\n",
      " [1 0 1 0 1 0 1 0 1]\n",
      " [1 0 1 0 0 0 1 0 1]\n",
      " [1 0 1 1 1 1 1 0 1]\n",
      " [1 0 0 0 0 0 0 0 1]\n",
      " [1 1 1 1 1 1 1 1 1]]\n"
     ]
    }
   ],
   "source": [
    "pattern = arr_2D.copy()\n",
    "pattern[1:-1, 1:-1] = 0\n",
    "pattern[2:-2, 2:-2] = 1\n",
    "pattern[3:-3, 3:-3] = 0\n",
    "pattern[4:-4, 4:-4] = 1\n",
    "\n",
    "print(\"Pattern array:\\n\", pattern)"
   ]
  },
  {
   "cell_type": "code",
   "execution_count": 15,
   "id": "1cbb0e19-2aa4-4a6e-a2fc-9b83ed29f428",
   "metadata": {},
   "outputs": [],
   "source": [
    "## Q3: Using broadcasting create an output matrix based on the following two arrays:\n",
    "# array_1 = np.array([1,2,3,4,5], dytpe=np.int8)\n",
    "# array_2 = np.array([1,2,3], dytpe=np.int8)"
   ]
  },
  {
   "cell_type": "code",
   "execution_count": 29,
   "id": "27f0cc6c-7380-4b04-870d-b1ffe511ddbf",
   "metadata": {},
   "outputs": [
    {
     "name": "stdout",
     "output_type": "stream",
     "text": [
      "Output matrix:\n",
      " [[ 1  2  3]\n",
      " [ 2  4  6]\n",
      " [ 3  6  9]\n",
      " [ 4  8 12]\n",
      " [ 5 10 15]]\n"
     ]
    }
   ],
   "source": [
    "array_1 = np.array([1, 2, 3, 4, 5], dtype=np.int8)\n",
    "array_2 = np.array([1, 2, 3], dtype=np.int8)\n",
    "# output = array_1.reshape(-1, 1) * array_2.reshape(1, -1)\n",
    "output = array_1[:, None] * array_2[None, :]\n",
    "print(\"Output matrix:\\n\", output)"
   ]
  },
  {
   "cell_type": "code",
   "execution_count": null,
   "id": "39851270-1d5b-4af8-9214-2ae2d8ff9a89",
   "metadata": {},
   "outputs": [],
   "source": []
  }
 ],
 "metadata": {
  "kernelspec": {
   "display_name": "Python 3 (ipykernel)",
   "language": "python",
   "name": "python3"
  },
  "language_info": {
   "codemirror_mode": {
    "name": "ipython",
    "version": 3
   },
   "file_extension": ".py",
   "mimetype": "text/x-python",
   "name": "python",
   "nbconvert_exporter": "python",
   "pygments_lexer": "ipython3",
   "version": "3.8.20"
  }
 },
 "nbformat": 4,
 "nbformat_minor": 5
}
