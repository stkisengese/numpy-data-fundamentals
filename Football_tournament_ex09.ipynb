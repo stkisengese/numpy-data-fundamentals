{
 "cells": [
  {
   "cell_type": "code",
   "execution_count": 1,
   "id": "1c71b2a5-6010-4b29-a738-9248644c5d24",
   "metadata": {},
   "outputs": [],
   "source": [
    "# Exercise 9: Football Tournament"
   ]
  },
  {
   "cell_type": "code",
   "execution_count": 9,
   "id": "43413483-a841-4e3d-9761-54a5e2503072",
   "metadata": {},
   "outputs": [
    {
     "name": "stdout",
     "output_type": "stream",
     "text": [
      "Model forecasts matrix:\n",
      "[[ 0.   -2.3  -4.59 -4.83  3.13  4.13  1.07  2.29  0.44  4.35]\n",
      " [ 2.3   0.    3.57 -4.66  2.3  -3.24  3.63  0.41 -2.   -0.77]\n",
      " [ 4.59 -3.57  0.    1.47  1.15 -1.16  4.97  4.81  1.86  1.5 ]\n",
      " [ 4.83  4.66 -1.47  0.    0.25 -1.9  -0.14  3.89  4.34 -1.42]\n",
      " [-3.13 -2.3  -1.15 -0.25  0.    3.9  -2.73  1.23 -4.16  3.33]\n",
      " [-4.13  3.24  1.16  1.9  -3.9   0.   -0.5   2.96 -2.69 -4.48]\n",
      " [-1.07 -3.63 -4.97  0.14  2.73  0.5   0.    4.42 -1.35 -3.95]\n",
      " [-2.29 -0.41 -4.81 -3.89 -1.23 -2.96 -4.42  0.    4.49 -0.4 ]\n",
      " [-0.44  2.   -1.86 -4.34  4.16  2.69  1.35 -4.49  0.    2.29]\n",
      " [-4.35  0.77 -1.5   1.42 -3.33  4.48  3.95  0.4  -2.29  0.  ]]\n",
      "Matrix shape: (10, 10)\n",
      "Searching for optimal pairing...\n",
      "\n",
      "Optimal pairing found:\n",
      "[[0 1 2 3 5]\n",
      " [8 7 9 4 6]]\n"
     ]
    }
   ],
   "source": [
    "import numpy as np\n",
    "from itertools import combinations, permutations\n",
    "\n",
    "# Load the actual model forecasts data\n",
    "model_forecasts = np.loadtxt('model_forecasts.txt', delimiter=',')\n",
    "\n",
    "# Replace nan values on diagonal with 0 (teams don't play against themselves)\n",
    "np.fill_diagonal(model_forecasts, 0)\n",
    "\n",
    "print(\"Model forecasts matrix:\")\n",
    "print(model_forecasts)\n",
    "print(f\"Matrix shape: {model_forecasts.shape}\")\n",
    "\n",
    "def find_optimal_pairing(forecasts):\n",
    "    \"\"\"\n",
    "    Find the optimal pairing that minimizes sum of squared differences.\n",
    "    Uses combinations to select 5 teams for first group, then finds best permutation pairing.\n",
    "    \"\"\"\n",
    "    n_teams = forecasts.shape[0]\n",
    "    teams = list(range(n_teams))\n",
    "    \n",
    "    min_sum_squared_diff = float('inf')\n",
    "    best_pairing = None\n",
    "    \n",
    "    print(\"Searching for optimal pairing...\")\n",
    "    \n",
    "    # Generate all ways to choose 5 teams for the first group\n",
    "    for group1 in combinations(teams, 5):\n",
    "        group2 = tuple(t for t in teams if t not in group1)\n",
    "        \n",
    "        # Try all permutations of group2 to pair with group1\n",
    "        for perm2 in permutations(group2):\n",
    "            sum_squared_diff = 0\n",
    "            for i in range(5):\n",
    "                diff = forecasts[group1[i], perm2[i]]\n",
    "                sum_squared_diff += diff ** 2\n",
    "            \n",
    "            if sum_squared_diff < min_sum_squared_diff:\n",
    "                min_sum_squared_diff = sum_squared_diff\n",
    "                best_pairing = np.array([list(group1), list(perm2)])\n",
    "    \n",
    "    return best_pairing, min_sum_squared_diff\n",
    "\n",
    "# Find the optimal pairing\n",
    "optimal_pairing, min_score = find_optimal_pairing(model_forecasts)\n",
    "\n",
    "print(f\"\\nOptimal pairing found:\")\n",
    "print(optimal_pairing)\n",
    "# print(f\"Minimum sum of squared differences: {min_score:.2f}\")\n",
    "\n",
    "# # Verify the matches and their score differences\n",
    "# print(\"\\nMatch details:\")\n",
    "# for i in range(5):\n",
    "#     team1, team2 = optimal_pairing[0, i], optimal_pairing[1, i]\n",
    "#     diff = model_forecasts[team1, team2]\n",
    "#     print(f\"Match {i+1}: Team {team1} vs Team {team2}, Score difference: {diff:.2f}, Squared: {diff**2:.2f}\")\n"
   ]
  },
  {
   "cell_type": "code",
   "execution_count": null,
   "id": "a7ecaefa-f677-413b-9a12-5b8461fc3457",
   "metadata": {},
   "outputs": [],
   "source": []
  },
  {
   "cell_type": "code",
   "execution_count": null,
   "id": "ee5fb196-b422-4b2a-a979-62284054cdc6",
   "metadata": {},
   "outputs": [],
   "source": []
  }
 ],
 "metadata": {
  "kernelspec": {
   "display_name": "Python 3 (ipykernel)",
   "language": "python",
   "name": "python3"
  },
  "language_info": {
   "codemirror_mode": {
    "name": "ipython",
    "version": 3
   },
   "file_extension": ".py",
   "mimetype": "text/x-python",
   "name": "python",
   "nbconvert_exporter": "python",
   "pygments_lexer": "ipython3",
   "version": "3.8.20"
  }
 },
 "nbformat": 4,
 "nbformat_minor": 5
}
