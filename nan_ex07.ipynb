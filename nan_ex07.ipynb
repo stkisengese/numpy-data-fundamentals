{
 "cells": [
  {
   "cell_type": "code",
   "execution_count": 1,
   "id": "1d8af958-ecd3-4ab9-a40e-a4a80503adc1",
   "metadata": {},
   "outputs": [],
   "source": [
    "# Exercise 7: NaN"
   ]
  },
  {
   "cell_type": "code",
   "execution_count": 3,
   "id": "89a3bebd-fe09-4063-9893-770fbe98d3a5",
   "metadata": {},
   "outputs": [
    {
     "name": "stdout",
     "output_type": "stream",
     "text": [
      "[[ 7.  1.]\n",
      " [nan  2.]\n",
      " [nan  8.]\n",
      " [ 9.  3.]\n",
      " [ 8.  9.]\n",
      " [nan  2.]\n",
      " [ 8.  2.]\n",
      " [nan  6.]\n",
      " [ 9.  2.]\n",
      " [ 8.  5.]]\n"
     ]
    }
   ],
   "source": [
    "# Simulate data\n",
    "import numpy as np\n",
    "\n",
    "generator = np.random.default_rng(123)\n",
    "grades = np.round(generator.uniform(low = 0.0, high = 10.0, size = (10, 2)))\n",
    "grades[[1,2,5,7], [0,0,0,0]] = np.nan\n",
    "print(grades)"
   ]
  },
  {
   "cell_type": "code",
   "execution_count": null,
   "id": "e7f3f700-e447-4553-9256-e57489471545",
   "metadata": {},
   "outputs": [],
   "source": []
  }
 ],
 "metadata": {
  "kernelspec": {
   "display_name": "Python 3 (ipykernel)",
   "language": "python",
   "name": "python3"
  },
  "language_info": {
   "codemirror_mode": {
    "name": "ipython",
    "version": 3
   },
   "file_extension": ".py",
   "mimetype": "text/x-python",
   "name": "python",
   "nbconvert_exporter": "python",
   "pygments_lexer": "ipython3",
   "version": "3.8.20"
  }
 },
 "nbformat": 4,
 "nbformat_minor": 5
}
