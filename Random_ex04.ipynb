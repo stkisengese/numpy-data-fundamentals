{
 "cells": [
  {
   "cell_type": "code",
   "execution_count": 4,
   "id": "0450c31e-798a-44f5-90ea-9239e4625240",
   "metadata": {},
   "outputs": [],
   "source": [
    "# Exercise 4: Random"
   ]
  },
  {
   "cell_type": "code",
   "execution_count": 5,
   "id": "b37f53eb-88eb-4227-88bb-1117af25fa07",
   "metadata": {},
   "outputs": [],
   "source": [
    "import numpy as np\n",
    "\n",
    "# set seed\n",
    "np.random.seed(888)"
   ]
  },
  {
   "cell_type": "code",
   "execution_count": 3,
   "id": "dece1b84-2343-4b68-94ac-c93000ec2d07",
   "metadata": {},
   "outputs": [],
   "source": [
    "## Q1: 1D normal distribution (size 100)"
   ]
  },
  {
   "cell_type": "code",
   "execution_count": 9,
   "id": "42fdf48f-ec82-471b-bc21-fadb3f3bfe8d",
   "metadata": {},
   "outputs": [
    {
     "name": "stdout",
     "output_type": "stream",
     "text": [
      "Normal 1D shape:\n",
      " [ 0.6159096   0.03134465 -1.08335867 -1.66608962 -0.43977505 -1.57969972\n",
      " -0.02106819  0.86440243  0.22212128  0.81250355 -0.20449472  1.52039379\n",
      "  0.64022257 -1.99299568  0.24737691  0.18463455 -0.24192008 -1.59246798\n",
      "  1.45999652 -1.4263102  -0.34836611  0.33996734  0.43484765 -0.52116545\n",
      " -0.86253277  1.19945472  0.81274993 -0.56333516  0.34712438  0.3566236\n",
      " -1.10326573 -0.92059849 -0.75848109  0.90175291  0.66719533  0.3099234\n",
      "  0.31522152  0.38941639  0.29040943 -0.34098103 -0.57719171  0.09588328\n",
      " -0.8062309  -0.03486154  0.49498914 -0.02204072 -0.00640163 -2.01272543\n",
      "  1.51474911  0.52014338  1.28364896 -0.6278823   1.34317566  0.43830268\n",
      "  0.76131657 -0.0453198  -0.20386984 -0.75524572  0.36024241 -1.41316516\n",
      " -0.37785324  0.94768519  2.25162786  0.69431341 -0.99728526  0.97922457\n",
      "  0.2147672   0.37312693 -0.69246705 -0.44906754 -0.11945879 -0.53801271\n",
      " -0.25293928  0.61233673  0.48491548 -1.78745503  0.78335477 -0.15175686\n",
      " -1.31884318 -0.04141261 -0.10337554 -0.11428856  1.26729866 -0.55581112\n",
      "  0.71401229  0.18615577 -0.47639067 -0.63675574  0.09493454 -0.19763343\n",
      " -1.17047842  0.03091652  1.60639276 -0.28834036 -0.42868331  0.96689285\n",
      "  0.2003686  -0.44724544 -0.24438266  0.78454465]\n"
     ]
    }
   ],
   "source": [
    "normal_1d = np.random.randn(100)\n",
    "print(\"Normal 1D shape:\\n\", normal_1d)"
   ]
  },
  {
   "cell_type": "code",
   "execution_count": null,
   "id": "290dc2db-c953-4975-8475-6af2f55fbdec",
   "metadata": {},
   "outputs": [],
   "source": [
    "## q2: 2D random integers 1-10 (8x8)"
   ]
  },
  {
   "cell_type": "code",
   "execution_count": 11,
   "id": "71698d03-69b5-4507-b36a-1f9eeb3a84f9",
   "metadata": {},
   "outputs": [
    {
     "name": "stdout",
     "output_type": "stream",
     "text": [
      "2D Integers 8by8 shape:\n",
      " (8, 8)\n"
     ]
    }
   ],
   "source": [
    "rand_int_2d = np.random.randint(1, 11, size=(8,8))\n",
    "print(\"2D Integers 8by8 shape:\\n\", rand_int_2d)"
   ]
  },
  {
   "cell_type": "code",
   "execution_count": 15,
   "id": "5f4e8eec-c597-4226-9bcf-e44878dabc37",
   "metadata": {},
   "outputs": [
    {
     "name": "stdout",
     "output_type": "stream",
     "text": [
      "3D integers array:\n",
      " [[[14  2 12  7 13]\n",
      "  [ 1  8  5  7  5]]\n",
      "\n",
      " [[ 4 11  7 11 10]\n",
      "  [ 1 11  4 13  7]]\n",
      "\n",
      " [[ 8  3  3  3 11]\n",
      "  [ 8  4  7  1 13]]\n",
      "\n",
      " [[14 15  3 14 11]\n",
      "  [ 1 15  2 12  7]]]\n"
     ]
    }
   ],
   "source": [
    "## Q3: 3D random integers 1-17 (4,2,5)\n",
    "print(\"3D integers array:\\n\", np.random.randint(1, 18, size=(4, 2, 5)))"
   ]
  },
  {
   "cell_type": "code",
   "execution_count": null,
   "id": "ebed0d89-66a7-4631-840a-fc90feb31c16",
   "metadata": {},
   "outputs": [],
   "source": []
  }
 ],
 "metadata": {
  "kernelspec": {
   "display_name": "Python 3 (ipykernel)",
   "language": "python",
   "name": "python3"
  },
  "language_info": {
   "codemirror_mode": {
    "name": "ipython",
    "version": 3
   },
   "file_extension": ".py",
   "mimetype": "text/x-python",
   "name": "python",
   "nbconvert_exporter": "python",
   "pygments_lexer": "ipython3",
   "version": "3.8.20"
  }
 },
 "nbformat": 4,
 "nbformat_minor": 5
}
